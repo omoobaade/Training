{
 "cells": [
  {
   "cell_type": "markdown",
   "metadata": {},
   "source": [
    "Please write a program that helps a KSU graduate student calculate their tuition for the semester. \n",
    "The program should ask how many credit hours the student is taking, \n",
    "and whether the student is in-state or out-of-state, and finally print the total tuition. the total tuition is calculated as number of credits * 296 for in-state students, and number of credits * 1066 for out-of-state students.\n",
    "\n",
    "Examples of input/output of the program (the highlighted texts are entered from keyboard):\n",
    "\n",
    "#### please enter the number of credits: 12\n",
    "#### are you a in-state student (yes/no)? yes\n",
    "#### your tuition for the semester is 3552.0\n",
    "\n",
    "#### please enter the number of credits: 9\n",
    "#### are you a in-state student (yes/no)? no\n",
    "#### your tuition for the semester is 9594.0\n"
   ]
  },
  {
   "cell_type": "code",
   "execution_count": null,
   "metadata": {},
   "outputs": [],
   "source": [
    "credit_hours = int(input (\"Please enter the number of credits \"))\n",
    "credit_hours = float(credit_hours)\n",
    "residency = input (\"are you in-state student (yes/no) \")\n",
    "if residency =='yes':\n",
    "    tuition = credit_hours * 296\n",
    "    print ('your tuition for this semester is', tuition)\n",
    "else:\n",
    "    tuition = 1066 * credit_hours\n",
    "    print ('your tuition for this semester is', tuition)"
   ]
  },
  {
   "cell_type": "code",
   "execution_count": null,
   "metadata": {},
   "outputs": [],
   "source": []
  }
 ],
 "metadata": {
  "kernelspec": {
   "display_name": "Python 3",
   "language": "python",
   "name": "python3"
  },
  "language_info": {
   "codemirror_mode": {
    "name": "ipython",
    "version": 3
   },
   "file_extension": ".py",
   "mimetype": "text/x-python",
   "name": "python",
   "nbconvert_exporter": "python",
   "pygments_lexer": "ipython3",
   "version": "3.8.5"
  }
 },
 "nbformat": 4,
 "nbformat_minor": 4
}
